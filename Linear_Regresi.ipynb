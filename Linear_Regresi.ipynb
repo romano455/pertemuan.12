{
  "nbformat": 4,
  "nbformat_minor": 0,
  "metadata": {
    "colab": {
      "name": "Linear Regresi.ipynb",
      "provenance": []
    },
    "kernelspec": {
      "name": "python3",
      "display_name": "Python 3"
    },
    "language_info": {
      "name": "python"
    }
  },
  "cells": [
    {
      "cell_type": "code",
      "metadata": {
        "id": "EyZ7eQNJdBWG"
      },
      "source": [
        "# import Library yang di perlukan \n",
         "# muhamad nur rochman\n",
        "# a11.2018.11131\n",
        "# tugas 12\n",
        "  from scipy import stats"
      ],
      "execution_count": null,
      "outputs": []
    },
    {
      "cell_type": "code",
      "metadata": {
        "id": "RcWYPwKBcWeP"
      },
      "source": [
        "# x = data tinggi badan \n",
        "  x = [151,174,138,186,128,136,179,163,131]"
      ],
      "execution_count": null,
      "outputs": []
    },
    {
      "cell_type": "code",
      "metadata": {
        "id": "0hmP5a0Ecz18"
      },
      "source": [
        "# y = data berat badan \n",
        "  y = [63,81,56,91,47,57,76,72,,62,48]"
      ],
      "execution_count": null,
      "outputs": []
    },
    {
      "cell_type": "code",
      "metadata": {
        "id": "FWFZRc6udW7J"
      },
      "source": [
        "slope, intercep, r, p std_err = stats.linregress(x,y)"
      ],
      "execution_count": null,
      "outputs": []
    },
    {
      "cell_type": "code",
      "metadata": {
        "id": "3kZGMKbzduMJ"
      },
      "source": [
        "# buat fungsi linear rregrasi => y = 0,67461045 x - 38.45508707607701\n",
        "  def myfunc(x):\n",
        "    return slope * x + intercept\n",
        "    "
      ],
      "execution_count": null,
      "outputs": []
    },
    {
      "cell_type": "code",
      "metadata": {
        "id": "67Dls2YDeiFR"
      },
      "source": [
        "berat_badan = myfunc(151)"
      ],
      "execution_count": null,
      "outputs": []
    },
    {
      "cell_type": "code",
      "metadata": {
        "id": "MfvlMxIkeq9Q"
      },
      "source": [
        "print (berat_badan)"
      ],
      "execution_count": null,
      "outputs": []
    },
    {
      "cell_type": "code",
      "metadata": {
        "id": "lJq61MbQeuxC"
      },
      "source": [
        ""
      ],
      "execution_count": null,
      "outputs": []
    }
  ]
}
